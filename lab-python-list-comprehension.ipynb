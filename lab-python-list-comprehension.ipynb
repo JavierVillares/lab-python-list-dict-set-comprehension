{
 "cells": [
  {
   "cell_type": "markdown",
   "id": "25d7736c-ba17-4aff-b6bb-66eba20fbf4e",
   "metadata": {},
   "source": [
    "# Lab | List, Dict and Set Comprehension"
   ]
  },
  {
   "cell_type": "markdown",
   "id": "7dd3cbde-675a-4b81-92c3-f728846dbe06",
   "metadata": {},
   "source": [
    "## Exercise: Managing Customer Orders Optimized with Comprehension"
   ]
  },
  {
   "cell_type": "markdown",
   "id": "5d500160-2fb7-4777-b5e4-09d45ebaf328",
   "metadata": {},
   "source": [
    "In the previous exercise, you developed a program to manage customer orders and inventory. Now, let's take it a step further and incorporate comprehension into your code.\n",
    "\n",
    "Follow the steps below to complete the exercise:\n",
    "\n",
    "1. Review your code from the previous exercise and identify areas where you can apply comprehension to simplify and streamline your code. \n",
    "\n",
    "    - *Hint: Apply it to initialize inventory, updating the inventory and printing the updated inventory.*\n",
    "    \n",
    "    - For example, in initializing the inventory, we could have:\n",
    "    \n",
    "        ```python\n",
    "        def initialize_inventory(products):\n",
    "            inventory = {product: int(input(f\"Enter the quantity of {product}s available: \")) for product in products}\n",
    "            return inventory\n",
    "\n",
    "        ```\n",
    "<br>\n",
    "    \n",
    "    \n",
    "2. Modify the function get_customer_orders so it prompts the user to enter the number of customer orders and gathers the product names using a loop and user input. Use comprehension.\n",
    "\n",
    "3. Add a new function to calculate the total price of the customer order. For each product in customer_orders, prompt the user to enter the price of that product. Use comprehension to calculate the total price. Note: assume that the user can only have 1 unit of each product.\n",
    "\n",
    "4. Modify the update_inventory function to remove the product from the inventory if its quantity becomes zero after fulfilling the customer orders. Use comprehension to filter out the products with a quantity of zero from the inventory.\n",
    "\n",
    "5. Print the total price of the customer order.\n",
    "\n",
    "Your code should produce output similar to the following:\n",
    "\n",
    "```python\n",
    "Enter the quantity of t-shirts available:  5\n",
    "Enter the quantity of mugs available:  4\n",
    "Enter the quantity of hats available:  3\n",
    "Enter the quantity of books available:  2\n",
    "Enter the quantity of keychains available:  1\n",
    "Enter the number of customer orders:  2\n",
    "Enter the name of a product that a customer wants to order:  hat\n",
    "Enter the name of a product that a customer wants to order:  keychain\n",
    "\n",
    "Order Statistics:\n",
    "Total Products Ordered: 2\n",
    "Percentage of Unique Products Ordered: 40.0\n",
    "\n",
    "Updated Inventory:\n",
    "t-shirt: 5\n",
    "mug: 4\n",
    "hat: 2\n",
    "book: 2\n",
    "Enter the price of keychain:  5\n",
    "Enter the price of hat:  10\n",
    "Total Price: 15.0\n",
    "\n",
    "```\n"
   ]
  },
  {
   "cell_type": "code",
   "execution_count": 1,
   "id": "9eb2049f",
   "metadata": {},
   "outputs": [],
   "source": [
    "def initialize_inventory(x):\n",
    "    return {product: int(input(f\"Enter the quantity of {product}s available: \")) for product in products}\n"
   ]
  },
  {
   "cell_type": "code",
   "execution_count": 2,
   "id": "87a5e021",
   "metadata": {},
   "outputs": [],
   "source": [
    "### def get_customer_orders(x):\n",
    "def get_customer_orders(x):\n",
    "    num_orders = int(input(\"Enter the number of customer orders: \"))\n",
    "    return [input(\"Enter the name of a product that a customer wants to order: \") for _ in range(num_orders)]"
   ]
  },
  {
   "cell_type": "code",
   "execution_count": 3,
   "id": "57efd935",
   "metadata": {},
   "outputs": [],
   "source": [
    "def get_new_prices(x):\n",
    "    return sum(float(input(f\"Enter the price of {product}: \")) for product in customer_orders)"
   ]
  },
  {
   "cell_type": "code",
   "execution_count": 4,
   "id": "45698320",
   "metadata": {},
   "outputs": [],
   "source": [
    "def update_inventory(x, y, z):\n",
    "    return {product: count - 1 for product, count in inventory.items() if (product in customer_orders and count > 1) or count > 0}"
   ]
  },
  {
   "cell_type": "code",
   "execution_count": 5,
   "id": "d8e64b0d",
   "metadata": {},
   "outputs": [],
   "source": [
    "def calculate_order_statistics(x, y):\n",
    "    unique_products_ordered = len(set(x))\n",
    "    total_products = len(y)\n",
    "    percentage_unique = (unique_products_ordered / total_products) * 100\n",
    "    return unique_products_ordered, percentage_unique"
   ]
  },
  {
   "cell_type": "code",
   "execution_count": 6,
   "id": "78cce49f",
   "metadata": {},
   "outputs": [
    {
     "name": "stdout",
     "output_type": "stream",
     "text": [
      "Enter the quantity of t-shirts available: 1\n",
      "Enter the quantity of mugs available: 2\n",
      "Enter the quantity of hats available: 1\n",
      "Enter the quantity of books available: 2\n",
      "Enter the quantity of keychains available: 1\n",
      "Enter the number of customer orders: 5\n",
      "Enter the name of a product that a customer wants to order: mug\n",
      "Enter the name of a product that a customer wants to order: hat\n",
      "Enter the name of a product that a customer wants to order: book\n",
      "Enter the name of a product that a customer wants to order: keychain\n",
      "Enter the name of a product that a customer wants to order: mug\n",
      "Enter the price of mug: 1\n",
      "Enter the price of hat: 2\n",
      "Enter the price of book: 1\n",
      "Enter the price of keychain: 2\n",
      "Enter the price of mug: 1\n",
      "\n",
      "Order Statistics:\n",
      "Total Products Ordered: 5\n",
      "Percentage of Unique Products Ordered: 80.0\n",
      "\n",
      "Updated Inventory:\n",
      "t-shirt: 0\n",
      "mug: 1\n",
      "hat: 0\n",
      "book: 1\n",
      "keychain: 0\n",
      "\n",
      "Total Price: 7.0\n"
     ]
    }
   ],
   "source": [
    "products = [\"t-shirt\", \"mug\", \"hat\", \"book\", \"keychain\"]\n",
    "inventory = initialize_inventory(products)\n",
    "customer_orders = get_customer_orders(products)\n",
    "total_price = get_new_prices(customer_orders)\n",
    "updated_inventory = update_inventory(products, inventory, customer_orders)\n",
    "unique_products_ordered, percentage_unique = calculate_order_statistics(customer_orders, products)\n",
    "\n",
    "print(\"\\nOrder Statistics:\")\n",
    "print(\"Total Products Ordered:\", len(customer_orders))\n",
    "print(\"Percentage of Unique Products Ordered:\", percentage_unique)\n",
    "\n",
    "print(\"\\nUpdated Inventory:\")\n",
    "for product, quantity in updated_inventory.items():\n",
    "    print(f\"{product}: {quantity}\")\n",
    "\n",
    "print(\"\\nTotal Price:\", total_price)\n"
   ]
  },
  {
   "cell_type": "code",
   "execution_count": null,
   "id": "1870d7d3",
   "metadata": {},
   "outputs": [],
   "source": []
  }
 ],
 "metadata": {
  "kernelspec": {
   "display_name": "Python 3 (ipykernel)",
   "language": "python",
   "name": "python3"
  },
  "language_info": {
   "codemirror_mode": {
    "name": "ipython",
    "version": 3
   },
   "file_extension": ".py",
   "mimetype": "text/x-python",
   "name": "python",
   "nbconvert_exporter": "python",
   "pygments_lexer": "ipython3",
   "version": "3.11.5"
  }
 },
 "nbformat": 4,
 "nbformat_minor": 5
}

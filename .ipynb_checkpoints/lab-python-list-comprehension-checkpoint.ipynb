{
 "cells": [
  {
   "cell_type": "markdown",
   "id": "25d7736c-ba17-4aff-b6bb-66eba20fbf4e",
   "metadata": {},
   "source": [
    "# Lab | List, Dict and Set Comprehension"
   ]
  },
  {
   "cell_type": "markdown",
   "id": "7dd3cbde-675a-4b81-92c3-f728846dbe06",
   "metadata": {},
   "source": [
    "## Exercise: Managing Customer Orders Optimized with Comprehension"
   ]
  },
  {
   "cell_type": "markdown",
   "id": "5d500160-2fb7-4777-b5e4-09d45ebaf328",
   "metadata": {},
   "source": [
    "In the previous exercise, you developed a program to manage customer orders and inventory. Now, let's take it a step further and incorporate comprehension into your code.\n",
    "\n",
    "Follow the steps below to complete the exercise:\n",
    "\n",
    "1. Review your code from the previous exercise and identify areas where you can apply comprehension to simplify and streamline your code. \n",
    "\n",
    "    - *Hint: Apply it to initialize inventory, updating the inventory and printing the updated inventory.*\n",
    "    \n",
    "    - For example, in initializing the inventory, we could have:\n",
    "    \n",
    "        ```python\n",
    "        def initialize_inventory(products):\n",
    "            inventory = {product: int(input(f\"Enter the quantity of {product}s available: \")) for product in products}\n",
    "            return inventory\n",
    "\n",
    "        ```\n",
    "<br>\n",
    "    \n",
    "    \n",
    "2. Modify the function get_customer_orders so it prompts the user to enter the number of customer orders and gathers the product names using a loop and user input. Use comprehension.\n",
    "\n",
    "3. Add a new function to calculate the total price of the customer order. For each product in customer_orders, prompt the user to enter the price of that product. Use comprehension to calculate the total price. Note: assume that the user can only have 1 unit of each product.\n",
    "\n",
    "4. Modify the update_inventory function to remove the product from the inventory if its quantity becomes zero after fulfilling the customer orders. Use comprehension to filter out the products with a quantity of zero from the inventory.\n",
    "\n",
    "5. Print the total price of the customer order.\n",
    "\n",
    "Your code should produce output similar to the following:\n",
    "\n",
    "```python\n",
    "Enter the quantity of t-shirts available:  5\n",
    "Enter the quantity of mugs available:  4\n",
    "Enter the quantity of hats available:  3\n",
    "Enter the quantity of books available:  2\n",
    "Enter the quantity of keychains available:  1\n",
    "Enter the number of customer orders:  2\n",
    "Enter the name of a product that a customer wants to order:  hat\n",
    "Enter the name of a product that a customer wants to order:  keychain\n",
    "\n",
    "Order Statistics:\n",
    "Total Products Ordered: 2\n",
    "Percentage of Unique Products Ordered: 40.0\n",
    "\n",
    "Updated Inventory:\n",
    "t-shirt: 5\n",
    "mug: 4\n",
    "hat: 2\n",
    "book: 2\n",
    "Enter the price of keychain:  5\n",
    "Enter the price of hat:  10\n",
    "Total Price: 15.0\n",
    "\n",
    "```\n"
   ]
  },
  {
   "cell_type": "code",
   "execution_count": 1,
   "id": "9eb2049f",
   "metadata": {},
   "outputs": [],
   "source": [
    "def initialize_inventory(x):\n",
    "    more_products = \"y\" #conditio of the input \n",
    "    while more_products == \"y\":\n",
    "        products_orders = input(\"What product do you want to add a product to the inventory?:\"  )\n",
    "        more_products = input('Do you want to add another product to the inventory? y/n ')\n",
    "        x.append(products_orders)\n",
    "    else: inventory = {}\n",
    "    inventory = {key: int(input(f\"Enter the quantity of {key}s available: \")) for key in x}\n",
    "    return inventory"
   ]
  },
  {
   "cell_type": "code",
   "execution_count": 2,
   "id": "87a5e021",
   "metadata": {},
   "outputs": [],
   "source": [
    "### def get_customer_orders(x):\n",
    "def get_customer_orders(x):\n",
    "    customer_orders = {product for product in x if input(f\"Do you want to purchase {product} ? y/n \") == 'y'  }\n",
    "    print(\"Thank you for purchasing:\", customer_orders) #we display the customer_orders list with a thank you message\n",
    "    return customer_orders"
   ]
  },
  {
   "cell_type": "code",
   "execution_count": 3,
   "id": "57efd935",
   "metadata": {},
   "outputs": [],
   "source": [
    "def get_new_prices(x):\n",
    "    total_price = sum(float(input(f\"Please add a price for this product: {x} \")) for x in x)\n",
    "    print('The total price is: ', total_price)\n",
    "    return total_price\n"
   ]
  },
  {
   "cell_type": "code",
   "execution_count": 4,
   "id": "45698320",
   "metadata": {},
   "outputs": [],
   "source": [
    "def update_inventory(x, y):\n",
    "    updated_inventory = print({product: count - 1 for product, count in x.items() if product in y and count > 1})\n",
    "    return updated_inventory\n"
   ]
  },
  {
   "cell_type": "code",
   "execution_count": 5,
   "id": "d8e64b0d",
   "metadata": {},
   "outputs": [],
   "source": [
    "def calculate_order_statistics(x, y):\n",
    "    order_statistics = len(y)/len(x)*100\n",
    "    return \"Percentage of customer order\", order_statistics,\"%\""
   ]
  },
  {
   "cell_type": "code",
   "execution_count": 6,
   "id": "fc91c7aa",
   "metadata": {},
   "outputs": [],
   "source": [
    "#YOU NEED THE NEW INVENTORY and not show the new inventory with out the none ordered products\n"
   ]
  },
  {
   "cell_type": "code",
   "execution_count": 7,
   "id": "78cce49f",
   "metadata": {},
   "outputs": [
    {
     "name": "stdout",
     "output_type": "stream",
     "text": [
      "What product do you want to add a product to the inventory?:tank\n",
      "Do you want to add another product to the inventory? y/n y\n",
      "What product do you want to add a product to the inventory?:peace\n",
      "Do you want to add another product to the inventory? y/n n\n",
      "Enter the quantity of t-shirts available: 12\n",
      "Enter the quantity of mugs available: 12\n",
      "Enter the quantity of hats available: 12\n",
      "Enter the quantity of books available: 12\n",
      "Enter the quantity of keychains available: 1\n",
      "Enter the quantity of tanks available: 1\n",
      "Enter the quantity of peaces available: 1\n",
      "Do you want to purchase t-shirt ? y/n 2\n",
      "Do you want to purchase mug ? y/n y\n",
      "Do you want to purchase hat ? y/n y\n",
      "Do you want to purchase book ? y/n y\n",
      "Do you want to purchase keychain ? y/n n\n",
      "Do you want to purchase tank ? y/n n\n",
      "Do you want to purchase peace ? y/n y\n",
      "Thank you for purchasing: {'mug', 'hat', 'peace', 'book'}\n",
      "Order Statistics: \n",
      "Total Products Orderes:  4\n",
      "{'mug': 11, 'hat': 11, 'book': 11}\n",
      "None\n",
      "Please add a price for this product: mug 12\n",
      "Please add a price for this product: hat 23\n",
      "Please add a price for this product: peace 1\n",
      "Please add a price for this product: book 3\n",
      "The total price is:  39.0\n"
     ]
    },
    {
     "data": {
      "text/plain": [
       "39.0"
      ]
     },
     "execution_count": 7,
     "metadata": {},
     "output_type": "execute_result"
    }
   ],
   "source": [
    "products = [\"t-shirt\", \"mug\", \"hat\", \"book\", \"keychain\"]\n",
    "inventory = initialize_inventory(products)\n",
    "customer_orders = ()\n",
    "customer_orders = get_customer_orders(products)\n",
    "print(\"Order Statistics: \")\n",
    "print(\"Total Products Orderes: \", len(customer_orders))\n",
    "print(update_inventory(inventory, customer_orders))\n",
    "calculate_order_statistics(products, customer_orders)\n",
    "get_new_prices(customer_orders)\n"
   ]
  },
  {
   "cell_type": "code",
   "execution_count": null,
   "id": "98b5c118",
   "metadata": {},
   "outputs": [],
   "source": [
    " while more_products == \"y\":\n",
    "        products_orders = input(\"What product do you want to add to the list:\"  )\n",
    "        more_products = input(\"Do you want to add more products to the list? y/n \")\n",
    "        x.append(products_orders)\n",
    "    else: inventory = {}"
   ]
  },
  {
   "cell_type": "code",
   "execution_count": null,
   "id": "7d7e6bc5",
   "metadata": {},
   "outputs": [],
   "source": []
  },
  {
   "cell_type": "code",
   "execution_count": null,
   "id": "9c84befd",
   "metadata": {},
   "outputs": [],
   "source": []
  },
  {
   "cell_type": "code",
   "execution_count": null,
   "id": "d10faca1",
   "metadata": {},
   "outputs": [],
   "source": []
  }
 ],
 "metadata": {
  "kernelspec": {
   "display_name": "Python 3 (ipykernel)",
   "language": "python",
   "name": "python3"
  },
  "language_info": {
   "codemirror_mode": {
    "name": "ipython",
    "version": 3
   },
   "file_extension": ".py",
   "mimetype": "text/x-python",
   "name": "python",
   "nbconvert_exporter": "python",
   "pygments_lexer": "ipython3",
   "version": "3.11.5"
  }
 },
 "nbformat": 4,
 "nbformat_minor": 5
}
